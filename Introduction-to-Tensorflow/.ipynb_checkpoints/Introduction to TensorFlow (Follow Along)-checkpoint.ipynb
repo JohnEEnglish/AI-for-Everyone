{
 "cells": [
  {
   "cell_type": "markdown",
   "metadata": {},
   "source": [
    "Introduction to TensorFlow (Follow Along)\n",
    "==="
   ]
  },
  {
   "cell_type": "markdown",
   "metadata": {},
   "source": [
    "We are going to learn the basics of TensorFlow by it's Python API. We will cover the following sections:\n",
    "1. Tensors\n",
    "2. TensorFlow Core (low-level API)\n",
    "3. tf.estimator (high-level API)\n",
    "\n",
    "**Note:** This document is part of the \"Introduction to TensorFlow\" workshop, which is meant to accompany these [slides](https://docs.google.com/presentation/d/1mJSo6hLstwFxo9-R68mZKQVGC6uaVBl-jx5Yq13JUyA/edit?usp=sharing). The main source for this notebook is https://www.tensorflow.org/get_started/get_started. For more information please visit [AI for Everyone!](http://andresvourakis.com/ai-for-everyone)"
   ]
  },
  {
   "cell_type": "markdown",
   "metadata": {},
   "source": [
    "Tensors\n",
    "---\n",
    "\n",
    "The central unit of data in TensorFlow is a **tensor**. A tensor consists of a set of primitive values shaped into array of any number of dimensions. A tensor's **rank** is its number of dimesions."
   ]
  },
  {
   "cell_type": "code",
   "execution_count": 21,
   "metadata": {},
   "outputs": [],
   "source": [
    "# A rank 0 tensor; a scalar with shape []\n"
   ]
  },
  {
   "cell_type": "code",
   "execution_count": 22,
   "metadata": {},
   "outputs": [],
   "source": [
    "# A rank 1 tensor; a scalar with shape [3]\n"
   ]
  },
  {
   "cell_type": "code",
   "execution_count": 23,
   "metadata": {},
   "outputs": [],
   "source": [
    "# A rank 2 tensor; a matrix with shape [2, 3]\n"
   ]
  },
  {
   "cell_type": "markdown",
   "metadata": {},
   "source": [
    "TensorFlow Core (low-level API)\n",
    "---"
   ]
  },
  {
   "cell_type": "markdown",
   "metadata": {},
   "source": [
    "**Importing TensorFlow**   \n",
    "In order to give Python access to all of TensorFlow's classes, methods, and symbols we need to import it as follows:"
   ]
  },
  {
   "cell_type": "code",
   "execution_count": 24,
   "metadata": {},
   "outputs": [],
   "source": [
    "# The canonical import statement for TensorFlow programs\n"
   ]
  },
  {
   "cell_type": "markdown",
   "metadata": {},
   "source": [
    "**The Computational Graph**   \n",
    "TensorFlow Core programs consist of two discrete sections:\n",
    "1. Building the computational graph \n",
    "2. Running the computational graph\n",
    "\n",
    "A computational graph is a series of TensorFlow operations arranged into a graph of nodes. Each node takes zero or more tensors as inputs and produces a tensor as output. Let's build a computational graph using a **constant**:"
   ]
  },
  {
   "cell_type": "markdown",
   "metadata": {},
   "source": [
    "**tf.constant**  \n",
    "It takes no inputs, and it outputs a value it stores internally."
   ]
  },
  {
   "cell_type": "code",
   "execution_count": 25,
   "metadata": {},
   "outputs": [],
   "source": [
    "# Building the computational graph\n"
   ]
  },
  {
   "cell_type": "markdown",
   "metadata": {},
   "source": [
    "To actually evaluate the nodes, we must run the computational graph within a session. A session encapsulates the control and state of the TensorFlow runtime."
   ]
  },
  {
   "cell_type": "code",
   "execution_count": 26,
   "metadata": {},
   "outputs": [],
   "source": [
    "# Running the computatinal graph\n"
   ]
  },
  {
   "cell_type": "markdown",
   "metadata": {},
   "source": [
    "**Note: **TensorFlow provides a utility called TensorBoard that can display a picture of the computational graph. Here is an example: ![addition operation](https://www.tensorflow.org/images/getting_started_add.png)"
   ]
  },
  {
   "cell_type": "markdown",
   "metadata": {},
   "source": [
    "**tf.placeholder**  \n",
    "A placeholder is a promise to provide a value later"
   ]
  },
  {
   "cell_type": "code",
   "execution_count": 27,
   "metadata": {},
   "outputs": [],
   "source": [
    "# Building the computational graph\n",
    "\n",
    "\n",
    "\n",
    "# Running the computatinal graph\n"
   ]
  },
  {
   "cell_type": "markdown",
   "metadata": {},
   "source": [
    "**tf.Variable** and **tf.assign**  \n",
    "A variable is contructed with a type and initial value that be changed later."
   ]
  },
  {
   "cell_type": "code",
   "execution_count": 28,
   "metadata": {},
   "outputs": [],
   "source": [
    "# Building the computational graph\n",
    "\n",
    "\n",
    "# Don't forget to Initialize Variables\n",
    "\n",
    "\n",
    "# Running the computatinal graph\n"
   ]
  },
  {
   "cell_type": "markdown",
   "metadata": {},
   "source": [
    "**tf.train** API  \n",
    "Provides a set of classes and functions that help train models. Whitin this set of classes and functions we have optimizers that slowly change each variable in order to minimize the loss function."
   ]
  },
  {
   "cell_type": "code",
   "execution_count": 29,
   "metadata": {},
   "outputs": [],
   "source": [
    "# Lets optimize using gradient descent\n"
   ]
  },
  {
   "cell_type": "markdown",
   "metadata": {},
   "source": [
    "**Trainable Linear Regression Model**  \n",
    "Lets build a complete trainable linear regression model"
   ]
  },
  {
   "cell_type": "markdown",
   "metadata": {},
   "source": [
    "![Linear Regression 1](https://www.kdnuggets.com/wp-content/uploads/regression-ml-requirements.jpg)\n",
    "\n",
    "Mathematically, we can write a linear relationship as:\n",
    "\n",
    "<center>$\\hat{y} = Wx + b$</center>\n",
    "---\n",
    "\n",
    "1. **$\\hat{y}$: ** prediction  \n",
    "2. **$W$: ** Weights (These values are “learned” during the model fitting/training step.)\n",
    "3. **$x$: ** features \n",
    "4. **$b$: ** bias (These values are “learned” during the model fitting/training step.)"
   ]
  },
  {
   "cell_type": "code",
   "execution_count": null,
   "metadata": {},
   "outputs": [],
   "source": [
    "# Imports\n",
    "\n",
    "# Model parameters\n",
    "\n",
    "\n",
    "# Model input and output\n",
    "\n",
    "\n",
    "#loss\n",
    "\n",
    "\n",
    "# training data\n",
    "\n",
    "\n",
    "# training loop\n",
    "\n",
    "\n",
    "# evaluate training accuracy"
   ]
  },
  {
   "cell_type": "markdown",
   "metadata": {},
   "source": [
    "tf.estimator (high-level API)\n",
    "---"
   ]
  },
  {
   "cell_type": "markdown",
   "metadata": {},
   "source": [
    "**tf.estimator** is a high-level TensorFlow library that simplifies the mechanics of machine learning, including the following:\n",
    "* running training loops\n",
    "* running evaluating loops\n",
    "* anaging data sets\n",
    "\n",
    "Let's use tf.estimator to build a complete trainable linear regression model"
   ]
  },
  {
   "cell_type": "code",
   "execution_count": 31,
   "metadata": {},
   "outputs": [],
   "source": [
    "# Imports\n",
    "\n",
    "# Declare list of features\n",
    "\n",
    "# Declare linear regression estimator\n",
    "\n",
    "# Read and set up data sets\n",
    "\n",
    "# Train model\n",
    "\n",
    "# Evaluate how well our model did"
   ]
  },
  {
   "cell_type": "markdown",
   "metadata": {},
   "source": [
    "**Note: ** tf.estimator does not lock you into its predefined models. Suppose we wanted to create a custom model that is not built into TensorFlow. We can still retain the high level abstraction of data set, feeding, training, etc. of tf.estimator"
   ]
  }
 ],
 "metadata": {
  "kernelspec": {
   "display_name": "Python 3",
   "language": "python",
   "name": "python3"
  },
  "language_info": {
   "codemirror_mode": {
    "name": "ipython",
    "version": 3
   },
   "file_extension": ".py",
   "mimetype": "text/x-python",
   "name": "python",
   "nbconvert_exporter": "python",
   "pygments_lexer": "ipython3",
   "version": "3.6.3"
  }
 },
 "nbformat": 4,
 "nbformat_minor": 2
}
